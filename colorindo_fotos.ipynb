{
 "cells": [
  {
   "cell_type": "markdown",
   "metadata": {},
   "source": [
    "# Colorindo fotos usando Deep Learning (API da Algorithmia) #"
   ]
  },
  {
   "cell_type": "markdown",
   "metadata": {},
   "source": [
    "<img src=\"output_color.gif\">\n"
   ]
  },
  {
   "cell_type": "markdown",
   "metadata": {},
   "source": [
    "#### 1º passo: Se registrar na Algorithmia e obtenha sua chave da API. Você pode achar a chave de API no seu perfil: ####\n",
    "\n",
    "<img src=\"algoritimia.png\">\n"
   ]
  },
  {
   "cell_type": "markdown",
   "metadata": {},
   "source": [
    "#### 2º passo: Instale o algorithmia digitando na linha de comando: ####\n",
    "```python\n",
    "pip install algorithmia\n",
    "```"
   ]
  },
  {
   "cell_type": "markdown",
   "metadata": {},
   "source": [
    "#### 3º passo: Selecione alguma foto que você queira colorir e faça o upload dela na data folder provido por algorithmia. ####\n",
    "\n",
    "<img src=\"pholder.png\">"
   ]
  },
  {
   "cell_type": "markdown",
   "metadata": {},
   "source": [
    "4º passo: Crie um arquivo localmente com o nome trial1.py . Abra ele e escreva o código abaixo. Note que você precisa colocar o caminho onde se encontra a imagem e a sua chave da API.\n",
    "```python\n",
    "import Algorithmia\n",
    "\n",
    "client = Algorithmia.client(‘…’) #insera sua chave de API aqui\n",
    "algo = client.algo('deeplearning/ColorfulImageColorization/1.1.5')\n",
    "imagem = algo.pipe(\"data:// … \") # Coloque o caminho do diretório onde sua imagem se encontra no site da Algorithmia```"
   ]
  },
  {
   "cell_type": "code",
   "execution_count": 22,
   "metadata": {
    "collapsed": false
   },
   "outputs": [],
   "source": [
    "import Algorithmia\n",
    "import os\n",
    "\n",
    "API_KEY = os.environ['API_KEY'] # os.environ['HOME']\n",
    "\n",
    "client = Algorithmia.client(API_KEY) # insera sua chave de API aqui\n",
    "algo = client.algo('deeplearning/ColorfulImageColorization/1.1.5')\n",
    "imagem = algo.pipe(\"data://Cloves/Imagens_brasil/Menininha_Gantois_1902.jpg\")"
   ]
  },
  {
   "cell_type": "code",
   "execution_count": null,
   "metadata": {
    "collapsed": true
   },
   "outputs": [],
   "source": []
  }
 ],
 "metadata": {
  "anaconda-cloud": {},
  "kernelspec": {
   "display_name": "Python [conda root]",
   "language": "python",
   "name": "conda-root-py"
  },
  "language_info": {
   "codemirror_mode": {
    "name": "ipython",
    "version": 2
   },
   "file_extension": ".py",
   "mimetype": "text/x-python",
   "name": "python",
   "nbconvert_exporter": "python",
   "pygments_lexer": "ipython2",
   "version": "2.7.12"
  }
 },
 "nbformat": 4,
 "nbformat_minor": 1
}
